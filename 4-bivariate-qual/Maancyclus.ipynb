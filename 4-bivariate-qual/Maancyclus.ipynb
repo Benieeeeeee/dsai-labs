{
  "nbformat": 4,
  "nbformat_minor": 0,
  "metadata": {
    "colab": {
      "provenance": []
    },
    "kernelspec": {
      "name": "python3",
      "display_name": "Python 3"
    },
    "language_info": {
      "name": "python"
    }
  },
  "cells": [
    {
      "cell_type": "code",
      "execution_count": null,
      "metadata": {
        "id": "ierlk3ssNeKM"
      },
      "outputs": [],
      "source": [
        "# Importeren van de nodige packages\n",
        "# Vul zelf aan met extra packages als dit nodig is voor de oefeningen!\n",
        "import numpy as np\n",
        "import pandas as pd\n",
        "import scipy.stats as stats\n",
        "import matplotlib.pyplot as plt\n",
        "import seaborn as sns"
      ]
    },
    {
      "cell_type": "code",
      "source": [],
      "metadata": {
        "id": "AoITUs66NenK"
      },
      "execution_count": null,
      "outputs": []
    },
    {
      "cell_type": "code",
      "source": [],
      "metadata": {
        "id": "Of3OWRdONepZ"
      },
      "execution_count": null,
      "outputs": []
    },
    {
      "cell_type": "markdown",
      "metadata": {
        "id": "9CCuiipV9vOc"
      },
      "source": [
        "\n",
        "Een volkswijsheid luidt dat er meer kinderen geboren worden gedurende bepaalde fasen van de maancyclus, in het bijzonder bij volle maan. In 2005 werd een classificatie gedaan van het aantal geboortes alnaargelang de maancyclus.\n",
        "Een steekproef van het aantal geboortes gedurende verschillende maancycli wordt hieronder gegeven.  \n",
        "Is er een verband tussen de maancyclus en het aantal geboortes?\n",
        "\n",
        "1. Welke hypothesetoets ga je toepassen om deze onderzoeksvraag te beantwoorden? Wees zo specifiek mogelijk!\n",
        "2. Formuleer de nulhypothese en de alternatieve hypothese\n",
        "3. Bereken de gepaste toetsingsgrootheid (teststatistiek) voor deze toets. Geef het symbool en de waarde\n",
        "4. Bereken de p-waarde\n",
        "5. Trek een besluit op basis van de vorige stap en formuleer een antwoord op de onderzoeksvraag.\n"
      ]
    },
    {
      "cell_type": "code",
      "execution_count": null,
      "metadata": {
        "colab": {
          "base_uri": "https://localhost:8080/"
        },
        "id": "Ei1O1YMCHLDa",
        "outputId": "43b12f9c-bd9a-43d4-e15a-97e02c629f6d"
      },
      "outputs": [
        {
          "output_type": "stream",
          "name": "stdout",
          "text": [
            "Chi-squared       : 56.0000\n",
            "Degrees of freedom: 49\n",
            "P-value           : 0.2289\n"
          ]
        }
      ],
      "source": [
        "dfmaan = pd.DataFrame(data={'maanfase': ['nieuwe maan', 'jonge maansikkel', 'eerste kwartier', 'wassende maan', 'volle maan', 'afnemende maan', 'laatste kwartier', 'asgrauwe maan'],\n",
        "                            'aantal_dagen': [24, 152, 24, 149, 24, 150, 24, 152],\n",
        "                            'aantal_geboorten': [7680, 48442, 7579, 47814, 7711, 47595, 7733, 48230]})\n",
        "observerd = pd.crosstab(dfmaan[\"maanfase\"], dfmaan[\"aantal_geboorten\"])\n",
        "\n",
        "row_sums = observerd.sum(axis=1)\n",
        "col_sums = observerd.sum()\n",
        "n = row_sums.sum()\n",
        "\n",
        "\n",
        "chi2, p, df, expected = stats.chi2_contingency(observerd)\n",
        "\n",
        "print(\"Chi-squared       : %.4f\" % chi2)\n",
        "print(\"Degrees of freedom: %d\" % df)\n",
        "print(\"P-value           : %.4f\" % p)\n"
      ]
    },
    {
      "cell_type": "code",
      "source": [],
      "metadata": {
        "id": "WH6Z6P_DNerx"
      },
      "execution_count": null,
      "outputs": []
    }
  ]
}