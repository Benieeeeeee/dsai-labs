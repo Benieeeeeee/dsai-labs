{
 "cells": [
  {
   "cell_type": "markdown",
   "metadata": {},
   "source": [
    "# Lab 5.01 - Two-sample t-test"
   ]
  },
  {
   "cell_type": "code",
   "execution_count": 25,
   "metadata": {},
   "outputs": [],
   "source": [
    "# Package imports\n",
    "import numpy as np                                  # \"Scientific computing\"\n",
    "import scipy.stats as stats                         # Statistical tests\n",
    "\n",
    "import pandas as pd                                 # Dataframe\n",
    "import matplotlib.pyplot as plt                     # Basic visualisation\n",
    "from statsmodels.graphics.mosaicplot import mosaic  # Mosaic plot\n",
    "import seaborn as sns                               # Advanced dataviz"
   ]
  },
  {
   "cell_type": "markdown",
   "metadata": {},
   "source": [
    "## Exercise 1 - soft-drink cans\n",
    "\n",
    "Assume that a soft-drink company is considering a style change to its current can, which has been the company’s trademark for many years. To determine whether this new style is popular with consumers, the company runs a number of focus group sessions around the country. At each of these sessions, randomly selected consumers are allowed to examine the new and traditional styles, exchange ideas, and offer their opinions. \n",
    "Eventually, they fill out a form where, among other questions, they are asked to respond to \n",
    "the following items, each on a scale of 1 to 7, 7 being the best:\n",
    "- Rate the attractiveness of the traditional-style can (AO).\n",
    "- Rate the attractiveness of the new-style can (AN).\n",
    "- Rate the likelihood that you would buy the product with the traditional-style can (WBO).\n",
    "- Rate the likelihood that you would buy the product with the new-style can (WBN).\n",
    "\n",
    "(A and WB stand for \"attractiveness\" and \"would buy\", and O and N stand for \"old\" and \"new\".)\n",
    "\n",
    "Use a test to see whether \n",
    "consumers rate the attractiveness, and their likelihood to purchase, higher for a new-style can than for the traditional-style can. First make a boxplot.\n",
    "\n",
    "A few results\n",
    "- AO vs AN: pvalue=1.32316e-07 < 0.05 => the attractiveness of the new-style can is significantly higher than the attractiveness of the traditional-style can\n",
    "\n",
    "- WBO vs WBN: pvalue=2.00845995e-06 < 0.05 => the likelihood to buy the new-style can is significantly higher than the likelihood to buy the traditional-style can\n"
   ]
  },
  {
   "cell_type": "code",
   "execution_count": 31,
   "metadata": {},
   "outputs": [
    {
     "data": {
      "text/html": [
       "<div>\n",
       "<style scoped>\n",
       "    .dataframe tbody tr th:only-of-type {\n",
       "        vertical-align: middle;\n",
       "    }\n",
       "\n",
       "    .dataframe tbody tr th {\n",
       "        vertical-align: top;\n",
       "    }\n",
       "\n",
       "    .dataframe thead th {\n",
       "        text-align: right;\n",
       "    }\n",
       "</style>\n",
       "<table border=\"1\" class=\"dataframe\">\n",
       "  <thead>\n",
       "    <tr style=\"text-align: right;\">\n",
       "      <th></th>\n",
       "      <th>Consumer</th>\n",
       "      <th>AO</th>\n",
       "      <th>AN</th>\n",
       "      <th>WBO</th>\n",
       "      <th>WBN</th>\n",
       "    </tr>\n",
       "  </thead>\n",
       "  <tbody>\n",
       "    <tr>\n",
       "      <th>0</th>\n",
       "      <td>1</td>\n",
       "      <td>5</td>\n",
       "      <td>7</td>\n",
       "      <td>4</td>\n",
       "      <td>1</td>\n",
       "    </tr>\n",
       "    <tr>\n",
       "      <th>1</th>\n",
       "      <td>2</td>\n",
       "      <td>7</td>\n",
       "      <td>7</td>\n",
       "      <td>6</td>\n",
       "      <td>6</td>\n",
       "    </tr>\n",
       "    <tr>\n",
       "      <th>2</th>\n",
       "      <td>3</td>\n",
       "      <td>6</td>\n",
       "      <td>7</td>\n",
       "      <td>7</td>\n",
       "      <td>6</td>\n",
       "    </tr>\n",
       "    <tr>\n",
       "      <th>3</th>\n",
       "      <td>4</td>\n",
       "      <td>1</td>\n",
       "      <td>3</td>\n",
       "      <td>1</td>\n",
       "      <td>1</td>\n",
       "    </tr>\n",
       "    <tr>\n",
       "      <th>4</th>\n",
       "      <td>5</td>\n",
       "      <td>3</td>\n",
       "      <td>4</td>\n",
       "      <td>1</td>\n",
       "      <td>1</td>\n",
       "    </tr>\n",
       "  </tbody>\n",
       "</table>\n",
       "</div>"
      ],
      "text/plain": [
       "   Consumer  AO  AN  WBO  WBN\n",
       "0         1   5   7    4    1\n",
       "1         2   7   7    6    6\n",
       "2         3   6   7    7    6\n",
       "3         4   1   3    1    1\n",
       "4         5   3   4    1    1"
      ]
     },
     "execution_count": 31,
     "metadata": {},
     "output_type": "execute_result"
    }
   ],
   "source": [
    "soft = pd.read_csv('https://raw.githubusercontent.com/HoGentTIN/dsai-labs/main/data/Soft-Drink%20Cans.csv', sep=\";\")\n",
    "soft.head()\n"
   ]
  },
  {
   "cell_type": "code",
   "execution_count": 32,
   "metadata": {},
   "outputs": [
    {
     "name": "stdout",
     "output_type": "stream",
     "text": [
      "4.411111111111111 4.95\n"
     ]
    }
   ],
   "source": [
    "attractivness_old = soft['WBO'].mean()\n",
    "attractivness_new = soft['WBN'].mean()\n",
    "print(attractivness_old, attractivness_new)"
   ]
  },
  {
   "cell_type": "code",
   "execution_count": 34,
   "metadata": {},
   "outputs": [
    {
     "data": {
      "text/plain": [
       "TtestResult(statistic=-4.757802744662339, pvalue=2.0084599545902635e-06, df=179)"
      ]
     },
     "execution_count": 34,
     "metadata": {},
     "output_type": "execute_result"
    }
   ],
   "source": [
    "# Paired t-test with ttest_rel()\n",
    "stats.ttest_rel(soft['WBO'], soft['WBN'], alternative='less')"
   ]
  }
 ],
 "metadata": {
  "kernelspec": {
   "display_name": "Python 3",
   "language": "python",
   "name": "python3"
  },
  "language_info": {
   "codemirror_mode": {
    "name": "ipython",
    "version": 3
   },
   "file_extension": ".py",
   "mimetype": "text/x-python",
   "name": "python",
   "nbconvert_exporter": "python",
   "pygments_lexer": "ipython3",
   "version": "3.11.9"
  },
  "orig_nbformat": 4
 },
 "nbformat": 4,
 "nbformat_minor": 2
}
